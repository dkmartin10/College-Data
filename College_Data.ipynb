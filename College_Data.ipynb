{
 "cells": [
  {
   "cell_type": "code",
   "execution_count": null,
   "metadata": {},
   "outputs": [],
   "source": [
    "import pandas as pd\n",
    "import numpy as np\n",
    "import re"
   ]
  },
  {
   "cell_type": "code",
   "execution_count": null,
   "metadata": {},
   "outputs": [],
   "source": [
    "df = pd.read_csv('University_Data.csv')"
   ]
  },
  {
   "cell_type": "code",
   "execution_count": null,
   "metadata": {},
   "outputs": [],
   "source": [
    "df_1 = df.copy()"
   ]
  },
  {
   "cell_type": "code",
   "execution_count": null,
   "metadata": {},
   "outputs": [],
   "source": [
    "col = list(df.columns)\n",
    "app = re.compile('Applicants')\n",
    "app_total = list(filter(app.match,col))\n",
    "add = re.compile('Admissions')\n",
    "add_total = list(filter(add.match,col))\n",
    "grand = re.compile('Grand')\n",
    "grand_total = list(filter(grand.match,col))\n",
    "student = re.compile('Student')\n",
    "st_total = list(filter(student.match,col))\n"
   ]
  },
  {
   "cell_type": "code",
   "execution_count": null,
   "metadata": {},
   "outputs": [],
   "source": [
    "app_total"
   ]
  },
  {
   "cell_type": "code",
   "execution_count": null,
   "metadata": {},
   "outputs": [],
   "source": [
    "# pivot Applicant_Total\n",
    "mod_app = df_1.melt(id_vars=['instnm'], value_vars= app_total,var_name = 'Year',\n",
    "                    value_name = 'Applicant_Total')\n",
    "mod_app.head()\n",
    "\n",
    "yr = ['2019','2018','2017','2016','2015','2014','2013','2012',\n",
    "      '2011','2010','2009','2008','2007','2006','2005','2004','2003','2002','2001']\n",
    "# function grobs the year from the columns name\n",
    "def get_year(x):\n",
    "    for i in yr:\n",
    "        if i in x:\n",
    "            return i\n",
    "# Create the Year column     \n",
    "mod_app['Year'] = mod_app['Year'].apply(get_year)   "
   ]
  },
  {
   "cell_type": "code",
   "execution_count": null,
   "metadata": {},
   "outputs": [],
   "source": [
    "mod_app.head()"
   ]
  },
  {
   "cell_type": "code",
   "execution_count": null,
   "metadata": {},
   "outputs": [],
   "source": [
    "# use melt function to pivot Admissions_Total column\n",
    "mod_add = df_1.melt(id_vars = ['instnm'],value_vars = add_total,var_name = 'Year',\n",
    "                    value_name= 'Admissions_Total')\n",
    "    \n",
    "mod_add['Year'] = mod_add['Year'].apply(get_year)  "
   ]
  },
  {
   "cell_type": "code",
   "execution_count": null,
   "metadata": {},
   "outputs": [],
   "source": [
    "mod_add.head()"
   ]
  },
  {
   "cell_type": "code",
   "execution_count": null,
   "metadata": {},
   "outputs": [],
   "source": [
    "# pivot the next column\n",
    "mod_grand = df_1.melt(id_vars = ['instnm'],value_vars = grand_total,var_name = 'Year',\n",
    "                      value_name= 'Grand_Total')\n",
    "    \n",
    "mod_grand['Year'] = mod_grand['Year'].apply(get_year)  "
   ]
  },
  {
   "cell_type": "code",
   "execution_count": null,
   "metadata": {},
   "outputs": [],
   "source": [
    "mod_grand.head()"
   ]
  },
  {
   "cell_type": "code",
   "execution_count": null,
   "metadata": {},
   "outputs": [],
   "source": [
    "# pivot column\n",
    "mod_st = df_1.melt(id_vars = ['instnm'],value_vars = st_total,\n",
    "                      var_name = 'Year',value_name= 'Student_Faculty_Ratio')\n",
    "    \n",
    "mod_st['Year'] = mod_st['Year'].apply(get_year)  "
   ]
  },
  {
   "cell_type": "code",
   "execution_count": null,
   "metadata": {},
   "outputs": [],
   "source": [
    "mod_st.head()"
   ]
  },
  {
   "cell_type": "code",
   "execution_count": null,
   "metadata": {},
   "outputs": [],
   "source": [
    "# merge the datasets I created\n",
    "mod_1 = pd.merge(left=mod_app,\n",
    "                 right=mod_add,how='inner',left_on=['instnm','Year'],\n",
    "                 right_on=['instnm','Year'])"
   ]
  },
  {
   "cell_type": "code",
   "execution_count": null,
   "metadata": {},
   "outputs": [],
   "source": [
    "mod_2 = pd.merge(left=mod_1,\n",
    "                 right=mod_grand,how='inner',left_on=['instnm','Year'],\n",
    "                 right_on=['instnm','Year'])"
   ]
  },
  {
   "cell_type": "code",
   "execution_count": null,
   "metadata": {},
   "outputs": [],
   "source": [
    "mod_f = pd.merge(left=mod_2,\n",
    "                 right=mod_st,how='left',left_on=['instnm','Year'],\n",
    "                 right_on=['instnm','Year'])"
   ]
  },
  {
   "cell_type": "code",
   "execution_count": null,
   "metadata": {},
   "outputs": [],
   "source": [
    "# created a seperate dataframe with state abbreviation in order to merge\n",
    "abb = df_1[['instnm','State abbreviation (HD2019)']]"
   ]
  },
  {
   "cell_type": "code",
   "execution_count": null,
   "metadata": {},
   "outputs": [],
   "source": [
    "mod = pd.merge(left=mod_f,\n",
    "                 right=abb,how='left',left_on=['instnm'],\n",
    "                 right_on=['instnm'])"
   ]
  },
  {
   "cell_type": "code",
   "execution_count": null,
   "metadata": {},
   "outputs": [],
   "source": [
    "# create dataframe for city to later merge \n",
    "city = df_1[['instnm','City location of institution (HD2019)']]"
   ]
  },
  {
   "cell_type": "code",
   "execution_count": null,
   "metadata": {},
   "outputs": [],
   "source": [
    "fin = pd.merge(left = mod,\n",
    "              right = city,how = 'left',left_on=['instnm'],\n",
    "              right_on = ['instnm'])"
   ]
  },
  {
   "cell_type": "code",
   "execution_count": null,
   "metadata": {},
   "outputs": [],
   "source": [
    "# rename columns\n",
    "fin = fin.rename(columns = {'instnm':'University',\n",
    "                            'State abbreviation (HD2019)':'State','Grand_Total':'Student_Total',\n",
    "                           'City location of institution (HD2019)': 'City'})"
   ]
  },
  {
   "cell_type": "code",
   "execution_count": null,
   "metadata": {},
   "outputs": [],
   "source": [
    "fin.to_csv('University_final.csv',index = False)"
   ]
  }
 ],
 "metadata": {
  "kernelspec": {
   "display_name": "Python 3",
   "language": "python",
   "name": "python3"
  },
  "language_info": {
   "codemirror_mode": {
    "name": "ipython",
    "version": 3
   },
   "file_extension": ".py",
   "mimetype": "text/x-python",
   "name": "python",
   "nbconvert_exporter": "python",
   "pygments_lexer": "ipython3",
   "version": "3.8.3"
  }
 },
 "nbformat": 4,
 "nbformat_minor": 4
}
